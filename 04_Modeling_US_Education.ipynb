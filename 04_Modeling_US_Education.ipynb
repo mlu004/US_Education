{
 "cells": [
  {
   "cell_type": "markdown",
   "id": "56f7c9d8",
   "metadata": {},
   "source": [
    "# Modeling of National US Education\n",
    "\n"
   ]
  },
  {
   "cell_type": "code",
   "execution_count": 1,
   "id": "46da885f",
   "metadata": {},
   "outputs": [],
   "source": [
    "import pandas as pd\n",
    "import seaborn as sns\n",
    "import numpy as np\n",
    "import matplotlib.pyplot as plt\n",
    "import math\n",
    "\n",
    "from sklearn.linear_model import LogisticRegression\n",
    "from sklearn.model_selection import GridSearchCV\n",
    "from sklearn.metrics import accuracy_score\n",
    "from sklearn.model_selection import validation_curve"
   ]
  },
  {
   "cell_type": "code",
   "execution_count": 2,
   "id": "ba9eff2b",
   "metadata": {},
   "outputs": [],
   "source": [
    "x_train = pd.read_csv(\"C:/Users/book_/OneDrive/Desktop/Data_Storage/US_Education/clean_data/x_train.csv\", index_col=0)\n",
    "y_train = pd.read_csv(\"C:/Users/book_/OneDrive/Desktop/Data_Storage/US_Education/clean_data/y_train.csv\", index_col=0)\n",
    "\n",
    "x_test = pd.read_csv(\"C:/Users/book_/OneDrive/Desktop/Data_Storage/US_Education/clean_data/x_test.csv\", index_col=0)\n",
    "y_test = pd.read_csv(\"C:/Users/book_/OneDrive/Desktop/Data_Storage/US_Education/clean_data/y_test.csv\", index_col=0)"
   ]
  },
  {
   "cell_type": "code",
   "execution_count": 3,
   "id": "943c3dcd",
   "metadata": {},
   "outputs": [
    {
     "name": "stdout",
     "output_type": "stream",
     "text": [
      "(12, 10)\n",
      "(12, 1)\n"
     ]
    }
   ],
   "source": [
    "print(x_train.shape)\n",
    "print(y_train.shape)"
   ]
  },
  {
   "cell_type": "markdown",
   "id": "2920f12f",
   "metadata": {},
   "source": [
    "# I. Logistic Regression"
   ]
  },
  {
   "cell_type": "code",
   "execution_count": null,
   "id": "7abd6259",
   "metadata": {},
   "outputs": [],
   "source": [
    "#looking at code in Logistic Regression Case Study\n",
    "\n",
    "Cs = [0.001, 0.1, 1, 10, 100]\n",
    "\n",
    "param_grid = {'C': Cs}\n",
    "model_4 = LogisticRegression()\n",
    "model_4_cv = GridSearchCV(model_4, param_grid, cv=5)\n",
    "model_4_cv.fit(Xlr, ylr)\n",
    "print(\"Best parameters: \" + str(model_3_cv.best_params_))\n",
    "print(\"Best score:\", model_4_cv.best_score_)\n",
    "model_4_cv.fit(Xlr,ylr)\n",
    "print(accuracy_score(model_4_cv.predict(Xtestlr), ytestlr))"
   ]
  }
 ],
 "metadata": {
  "kernelspec": {
   "display_name": "Python 3",
   "language": "python",
   "name": "python3"
  },
  "language_info": {
   "codemirror_mode": {
    "name": "ipython",
    "version": 3
   },
   "file_extension": ".py",
   "mimetype": "text/x-python",
   "name": "python",
   "nbconvert_exporter": "python",
   "pygments_lexer": "ipython3",
   "version": "3.8.8"
  }
 },
 "nbformat": 4,
 "nbformat_minor": 5
}
