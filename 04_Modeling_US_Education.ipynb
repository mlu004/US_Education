{
 "cells": [
  {
   "cell_type": "markdown",
   "id": "56f7c9d8",
   "metadata": {},
   "source": [
    "# Modeling of National US Education\n",
    "\n"
   ]
  },
  {
   "cell_type": "code",
   "execution_count": 1,
   "id": "46da885f",
   "metadata": {},
   "outputs": [],
   "source": [
    "import pandas as pd\n",
    "import seaborn as sns\n",
    "import numpy as np\n",
    "import matplotlib.pyplot as plt\n",
    "import math\n",
    "\n",
    "from sklearn.linear_model import LogisticRegression\n",
    "from sklearn.model_selection import GridSearchCV\n",
    "from sklearn.metrics import accuracy_score\n",
    "from sklearn.model_selection import validation_curve\n",
    "from sklearn.linear_model import LinearRegression\n",
    "from sklearn.ensemble import RandomForestRegressor\n",
    "from sklearn.pipeline import make_pipeline\n",
    "from sklearn.impute import SimpleImputer\n",
    "from sklearn.feature_selection import SelectKBest, f_regression\n",
    "from sklearn.preprocessing import StandardScaler\n",
    "from sklearn.metrics import r2_score, mean_squared_error, mean_absolute_error\n",
    "from sklearn.model_selection import train_test_split, cross_validate, GridSearchCV, learning_curve"
   ]
  },
  {
   "cell_type": "code",
   "execution_count": 2,
   "id": "ba9eff2b",
   "metadata": {},
   "outputs": [],
   "source": [
    "x_train = pd.read_csv(\"C:/Users/book_/OneDrive/Desktop/Data_Storage/US_Education/clean_data/x_train.csv\", index_col=0)\n",
    "y_train = pd.read_csv(\"C:/Users/book_/OneDrive/Desktop/Data_Storage/US_Education/clean_data/y_train.csv\", index_col=0)\n",
    "\n",
    "x_test = pd.read_csv(\"C:/Users/book_/OneDrive/Desktop/Data_Storage/US_Education/clean_data/x_test.csv\", index_col=0)\n",
    "y_test = pd.read_csv(\"C:/Users/book_/OneDrive/Desktop/Data_Storage/US_Education/clean_data/y_test.csv\", index_col=0)"
   ]
  },
  {
   "cell_type": "code",
   "execution_count": 3,
   "id": "943c3dcd",
   "metadata": {},
   "outputs": [
    {
     "name": "stdout",
     "output_type": "stream",
     "text": [
      "(12, 10)\n",
      "(12, 1)\n"
     ]
    },
    {
     "data": {
      "text/plain": [
       "(12,)"
      ]
     },
     "execution_count": 3,
     "metadata": {},
     "output_type": "execute_result"
    }
   ],
   "source": [
    "print(x_train.shape)\n",
    "print(y_train.shape)\n",
    "y_train_1d = y_train.values.flatten()\n",
    "y_train_1d.shape"
   ]
  },
  {
   "cell_type": "markdown",
   "id": "2920f12f",
   "metadata": {},
   "source": [
    "# I. Linear Regression"
   ]
  },
  {
   "cell_type": "code",
   "execution_count": 4,
   "id": "7abd6259",
   "metadata": {},
   "outputs": [],
   "source": [
    "pipe = make_pipeline(\n",
    "    StandardScaler(),\n",
    "    SelectKBest(f_regression),\n",
    "    LinearRegression()\n",
    ")"
   ]
  },
  {
   "cell_type": "code",
   "execution_count": 5,
   "id": "6f16a7c7",
   "metadata": {},
   "outputs": [
    {
     "data": {
      "text/plain": [
       "Pipeline(steps=[('standardscaler', StandardScaler()),\n",
       "                ('selectkbest',\n",
       "                 SelectKBest(score_func=<function f_regression at 0x00000200C8A14160>)),\n",
       "                ('linearregression', LinearRegression())])"
      ]
     },
     "execution_count": 5,
     "metadata": {},
     "output_type": "execute_result"
    }
   ],
   "source": [
    "pipe.fit(x_train, y_train_1d)"
   ]
  },
  {
   "cell_type": "code",
   "execution_count": 6,
   "id": "6eb1a24b",
   "metadata": {},
   "outputs": [],
   "source": [
    "y_tr_pred = pipe.predict(x_train)\n",
    "y_te_pred = pipe.predict(x_test)"
   ]
  },
  {
   "cell_type": "code",
   "execution_count": 7,
   "id": "b9a16d1c",
   "metadata": {},
   "outputs": [
    {
     "data": {
      "text/plain": [
       "(0.9832351548002036, -151.82556685189755)"
      ]
     },
     "execution_count": 7,
     "metadata": {},
     "output_type": "execute_result"
    }
   ],
   "source": [
    "r2_score(y_train, y_tr_pred), r2_score(y_test, y_te_pred)"
   ]
  },
  {
   "cell_type": "code",
   "execution_count": 8,
   "id": "de38744c",
   "metadata": {},
   "outputs": [
    {
     "data": {
      "text/plain": [
       "(0.2509510933467993, 4.092567442237282)"
      ]
     },
     "execution_count": 8,
     "metadata": {},
     "output_type": "execute_result"
    }
   ],
   "source": [
    "mean_absolute_error(y_train, y_tr_pred), mean_absolute_error(y_test, y_te_pred)"
   ]
  },
  {
   "cell_type": "code",
   "execution_count": 9,
   "id": "01c1ca42",
   "metadata": {},
   "outputs": [
    {
     "name": "stderr",
     "output_type": "stream",
     "text": [
      "C:\\Users\\book_\\anaconda3\\lib\\site-packages\\sklearn\\utils\\validation.py:63: DataConversionWarning: A column-vector y was passed when a 1d array was expected. Please change the shape of y to (n_samples, ), for example using ravel().\n",
      "  return f(*args, **kwargs)\n"
     ]
    },
    {
     "data": {
      "text/plain": [
       "{'selectkbest__k': 5}"
      ]
     },
     "execution_count": 9,
     "metadata": {},
     "output_type": "execute_result"
    }
   ],
   "source": [
    "k = [k+1 for k in range(len(x_train.columns))]\n",
    "grid_params = {'selectkbest__k': k}\n",
    "\n",
    "lr_grid_cv = GridSearchCV(pipe, param_grid=grid_params, cv=5, n_jobs=-1)\n",
    "\n",
    "lr_grid_cv.fit(x_train, y_train)\n",
    "\n",
    "score_mean = lr_grid_cv.cv_results_['mean_test_score']\n",
    "score_std = lr_grid_cv.cv_results_['std_test_score']\n",
    "cv_k = [k for k in lr_grid_cv.cv_results_['param_selectkbest__k']]\n",
    "\n",
    "lr_grid_cv.best_params_"
   ]
  },
  {
   "cell_type": "code",
   "execution_count": 10,
   "id": "1ec4c58e",
   "metadata": {},
   "outputs": [
    {
     "data": {
      "image/png": "[encoded data removed]",
      "text/plain": [
       "<Figure size 720x360 with 1 Axes>"
      ]
     },
     "metadata": {
      "needs_background": "light"
     },
     "output_type": "display_data"
    }
   ],
   "source": [
    "best_k = lr_grid_cv.best_params_['selectkbest__k']\n",
    "plt.subplots(figsize=(10, 5))\n",
    "plt.errorbar(cv_k, score_mean, yerr=score_std)\n",
    "plt.axvline(x=best_k, c='r', ls='--', alpha=.5)\n",
    "plt.xlabel('k')\n",
    "plt.ylabel('CV score (r-squared)')\n",
    "plt.title('Pipeline mean CV score (error bars +/- 1sd)');"
   ]
  },
  {
   "cell_type": "code",
   "execution_count": 11,
   "id": "36202512",
   "metadata": {},
   "outputs": [],
   "source": [
    "#This doesn't run correctly\n",
    "\n",
    "selected = lr_grid_cv.best_estimator_.named_steps.selectkbest.get_support()\n",
    "coefs = lr_grid_cv.best_estimator_.named_steps.linearregression.coef_\n",
    "features = x_train.columns[selected]\n",
    "#pd.Series(coefs, index=features).sort_values(ascending=False)"
   ]
  },
  {
   "cell_type": "code",
   "execution_count": 12,
   "id": "181ef43f",
   "metadata": {},
   "outputs": [
    {
     "name": "stdout",
     "output_type": "stream",
     "text": [
      "[False  True False False  True False  True  True  True False]\n",
      "Index(['ENROLL', 'TOTAL_REVENUE', 'FEDERAL_REVENUE', 'STATE_REVENUE',\n",
      "       'LOCAL_REVENUE', 'TOTAL_EXPENDITURE', 'INSTRUCTION_EXPENDITURE',\n",
      "       'SUPPORT_SERVICES_EXPENDITURE', 'OTHER_EXPENDITURE',\n",
      "       'CAPITAL_OUTLAY_EXPENDITURE'],\n",
      "      dtype='object')\n",
      "[[ 1.97440192 -0.33446473  4.88019353 -4.48278908  0.45761949]]\n",
      "Index(['TOTAL_REVENUE', 'LOCAL_REVENUE', 'INSTRUCTION_EXPENDITURE',\n",
      "       'SUPPORT_SERVICES_EXPENDITURE', 'OTHER_EXPENDITURE'],\n",
      "      dtype='object')\n"
     ]
    }
   ],
   "source": [
    "print(selected)\n",
    "print(x_train.columns)\n",
    "print(coefs)\n",
    "print(features)"
   ]
  },
  {
   "cell_type": "markdown",
   "id": "b59dd2f0",
   "metadata": {},
   "source": [
    "The out put for the \"Series\" Line of code should have come out as:\n",
    "\n",
    "INSTRUCTION_EXPENDITURE: 4.88019353\n",
    "\n",
    "TOTAL_REVENUE: 1.97440192\n",
    "\n",
    "OTHER_EXPENDITURE: 0.45761949\n",
    "\n",
    "LOCAL_REVENUE: -0.33446473\n",
    "\n",
    "SUPPORT_SERVICES_EXPENDITURE: -4.48278908\n",
    "\n",
    "This is interesting as it shows a strong positive corrilation with Instructional expenditures, which is to be expected. However the strong negative corrialtion with Support Services is not. Support services in schools are things such as:\n",
    "\n",
    "School Nurse\n",
    "Guidance Counselor\n",
    "English Learners\n",
    "Behavior Specialist\n",
    "Instructional Specialist\n",
    "Speech Specialist\n",
    "Remedial Services\n",
    "ect.\n",
    "\n",
    "The implication here is that these hurt the overall scores. So what we are going to do is look at this same model but by state instead of using just the national data."
   ]
  },
  {
   "cell_type": "code",
   "execution_count": 13,
   "id": "572c8156",
   "metadata": {},
   "outputs": [],
   "source": [
    "x_train_s = pd.read_csv(\"C:/Users/book_/OneDrive/Desktop/Data_Storage/US_Education/clean_data/x_train_states.csv\", index_col=0)\n",
    "y_train_s = pd.read_csv(\"C:/Users/book_/OneDrive/Desktop/Data_Storage/US_Education/clean_data/y_train_states.csv\", index_col=0)\n",
    "\n",
    "x_test_s = pd.read_csv(\"C:/Users/book_/OneDrive/Desktop/Data_Storage/US_Education/clean_data/x_test_states.csv\", index_col=0)\n",
    "y_test_s = pd.read_csv(\"C:/Users/book_/OneDrive/Desktop/Data_Storage/US_Education/clean_data/y_test_states.csv\", index_col=0)"
   ]
  },
  {
   "cell_type": "code",
   "execution_count": 14,
   "id": "6d1ccb14",
   "metadata": {},
   "outputs": [
    {
     "data": {
      "text/plain": [
       "(612,)"
      ]
     },
     "execution_count": 14,
     "metadata": {},
     "output_type": "execute_result"
    }
   ],
   "source": [
    "y_train_s1d = y_train_s.values.flatten()\n",
    "y_train_s1d.shape"
   ]
  },
  {
   "cell_type": "code",
   "execution_count": 15,
   "id": "b0bf3870",
   "metadata": {},
   "outputs": [
    {
     "data": {
      "text/plain": [
       "{'selectkbest__k': 2}"
      ]
     },
     "execution_count": 15,
     "metadata": {},
     "output_type": "execute_result"
    }
   ],
   "source": [
    "pipe_s = make_pipeline(\n",
    "    StandardScaler(),\n",
    "    SelectKBest(f_regression),\n",
    "    LinearRegression()\n",
    ")\n",
    "\n",
    "pipe_s.fit(x_train_s, y_train_s1d)\n",
    "\n",
    "k_s = [k+1 for k in range(len(x_train_s.columns))]\n",
    "grid_params_s = {'selectkbest__k': k_s}\n",
    "\n",
    "lr_grid_cv_s = GridSearchCV(pipe_s, param_grid=grid_params_s, cv=5, n_jobs=-1)\n",
    "\n",
    "lr_grid_cv_s.fit(x_train_s, y_train_s1d)\n",
    "\n",
    "score_mean_s = lr_grid_cv_s.cv_results_['mean_test_score']\n",
    "score_std_s = lr_grid_cv_s.cv_results_['std_test_score']\n",
    "cv_k_s = [k for k_s in lr_grid_cv_s.cv_results_['param_selectkbest__k']]\n",
    "\n",
    "lr_grid_cv_s.best_params_"
   ]
  },
  {
   "cell_type": "code",
   "execution_count": 16,
   "id": "9a0db680",
   "metadata": {},
   "outputs": [],
   "source": [
    "best_k_s = lr_grid_cv_s.best_params_['selectkbest__k']\n",
    "#plt.subplots(figsize=(10, 5))\n",
    "#plt.errorbar(cv_k_s, score_mean_s, yerr=score_std_s)\n",
    "#plt.axvline(x=best_k_s, c='r', ls='--', alpha=.5)\n",
    "#plt.xlabel('k')\n",
    "#plt.ylabel('CV score (r-squared)')\n",
    "#plt.title('Pipeline mean CV score (error bars +/- 1sd)');"
   ]
  },
  {
   "cell_type": "code",
   "execution_count": 17,
   "id": "8f9c25bc",
   "metadata": {},
   "outputs": [
    {
     "data": {
      "text/plain": [
       "LOCAL_REVENUE      4.543618\n",
       "FEDERAL_REVENUE   -4.427660\n",
       "dtype: float64"
      ]
     },
     "execution_count": 17,
     "metadata": {},
     "output_type": "execute_result"
    }
   ],
   "source": [
    "selected = lr_grid_cv_s.best_estimator_.named_steps.selectkbest.get_support()\n",
    "coefs = lr_grid_cv_s.best_estimator_.named_steps.linearregression.coef_\n",
    "features = x_train_s.columns[selected]\n",
    "pd.Series(coefs, index=features).sort_values(ascending=False)"
   ]
  },
  {
   "cell_type": "markdown",
   "id": "6f575744",
   "metadata": {},
   "source": [
    "This turned out less informative than the national data.\n",
    "\n",
    "# II. Random Forest Model"
   ]
  },
  {
   "cell_type": "code",
   "execution_count": 18,
   "id": "75cc5495",
   "metadata": {},
   "outputs": [],
   "source": [
    "RF_pipe = make_pipeline(\n",
    "    StandardScaler(),\n",
    "    RandomForestRegressor()\n",
    ")\n",
    "\n",
    "rf_default_cv_results = cross_validate(RF_pipe, x_train, y_train_1d, cv=5)"
   ]
  },
  {
   "cell_type": "code",
   "execution_count": 19,
   "id": "7065c5a1",
   "metadata": {},
   "outputs": [
    {
     "data": {
      "text/plain": [
       "array([-56.24792738,  -0.48278329,  -3.04137534, -32.83451968,\n",
       "         0.13862969])"
      ]
     },
     "execution_count": 19,
     "metadata": {},
     "output_type": "execute_result"
    }
   ],
   "source": [
    "rf_cv_scores = rf_default_cv_results['test_score']\n",
    "rf_cv_scores"
   ]
  },
  {
   "cell_type": "code",
   "execution_count": 20,
   "id": "6b30701e",
   "metadata": {},
   "outputs": [
    {
     "data": {
      "text/plain": [
       "(-18.493595202087043, 22.544941614531627)"
      ]
     },
     "execution_count": 20,
     "metadata": {},
     "output_type": "execute_result"
    }
   ],
   "source": [
    "np.mean(rf_cv_scores), np.std(rf_cv_scores)"
   ]
  },
  {
   "cell_type": "code",
   "execution_count": 21,
   "id": "9332409c",
   "metadata": {},
   "outputs": [
    {
     "data": {
      "text/plain": [
       "{'randomforestregressor__n_estimators': [10,\n",
       "  12,\n",
       "  16,\n",
       "  20,\n",
       "  26,\n",
       "  33,\n",
       "  42,\n",
       "  54,\n",
       "  69,\n",
       "  88,\n",
       "  112,\n",
       "  143,\n",
       "  183,\n",
       "  233,\n",
       "  297,\n",
       "  379,\n",
       "  483,\n",
       "  615,\n",
       "  784,\n",
       "  1000],\n",
       " 'standardscaler': [StandardScaler(), None]}"
      ]
     },
     "execution_count": 21,
     "metadata": {},
     "output_type": "execute_result"
    }
   ],
   "source": [
    "n_est = [int(n) for n in np.logspace(start=1, stop=3, num=20)]\n",
    "grid_params = {\n",
    "        'randomforestregressor__n_estimators': n_est,\n",
    "        'standardscaler': [StandardScaler(), None]\n",
    "}\n",
    "grid_params"
   ]
  },
  {
   "cell_type": "code",
   "execution_count": 22,
   "id": "47032c88",
   "metadata": {},
   "outputs": [
    {
     "name": "stderr",
     "output_type": "stream",
     "text": [
      "C:\\Users\\book_\\anaconda3\\lib\\site-packages\\sklearn\\pipeline.py:346: DataConversionWarning: A column-vector y was passed when a 1d array was expected. Please change the shape of y to (n_samples,), for example using ravel().\n",
      "  self._final_estimator.fit(Xt, y, **fit_params_last_step)\n"
     ]
    },
    {
     "data": {
      "text/plain": [
       "GridSearchCV(cv=5,\n",
       "             estimator=Pipeline(steps=[('standardscaler', StandardScaler()),\n",
       "                                       ('randomforestregressor',\n",
       "                                        RandomForestRegressor())]),\n",
       "             n_jobs=-1,\n",
       "             param_grid={'randomforestregressor__n_estimators': [10, 12, 16, 20,\n",
       "                                                                 26, 33, 42, 54,\n",
       "                                                                 69, 88, 112,\n",
       "                                                                 143, 183, 233,\n",
       "                                                                 297, 379, 483,\n",
       "                                                                 615, 784,\n",
       "                                                                 1000],\n",
       "                         'standardscaler': [StandardScaler(), None]})"
      ]
     },
     "execution_count": 22,
     "metadata": {},
     "output_type": "execute_result"
    }
   ],
   "source": [
    "rf_grid_cv = GridSearchCV(RF_pipe, param_grid=grid_params, cv=5, n_jobs=-1)\n",
    "rf_grid_cv.fit(x_train, y_train)"
   ]
  },
  {
   "cell_type": "code",
   "execution_count": 23,
   "id": "02fec5ad",
   "metadata": {},
   "outputs": [
    {
     "data": {
      "text/plain": [
       "{'randomforestregressor__n_estimators': 42, 'standardscaler': None}"
      ]
     },
     "execution_count": 23,
     "metadata": {},
     "output_type": "execute_result"
    }
   ],
   "source": [
    "rf_grid_cv.best_params_"
   ]
  },
  {
   "cell_type": "code",
   "execution_count": 24,
   "id": "651d14c6",
   "metadata": {},
   "outputs": [
    {
     "data": {
      "text/plain": [
       "array([-6.61138815e+01, -3.90686043e-01, -3.34740166e+00, -1.58070766e+01,\n",
       "       -5.92579161e-02])"
      ]
     },
     "execution_count": 24,
     "metadata": {},
     "output_type": "execute_result"
    }
   ],
   "source": [
    "rf_best_cv_results = cross_validate(rf_grid_cv.best_estimator_, x_train, y_train_1d, cv=5)\n",
    "rf_best_scores = rf_best_cv_results['test_score']\n",
    "rf_best_scores"
   ]
  },
  {
   "cell_type": "code",
   "execution_count": 25,
   "id": "0a97ab7c",
   "metadata": {},
   "outputs": [
    {
     "data": {
      "text/plain": [
       "(-17.143660747744153, 25.150525726221815)"
      ]
     },
     "execution_count": 25,
     "metadata": {},
     "output_type": "execute_result"
    }
   ],
   "source": [
    "np.mean(rf_best_scores), np.std(rf_best_scores)"
   ]
  },
  {
   "cell_type": "code",
   "execution_count": 26,
   "id": "04fea305",
   "metadata": {},
   "outputs": [
    {
     "data": {
      "image/png": "[encoded data removed]",
      "text/plain": [
       "<Figure size 720x360 with 1 Axes>"
      ]
     },
     "metadata": {
      "needs_background": "light"
     },
     "output_type": "display_data"
    }
   ],
   "source": [
    "plt.subplots(figsize=(10, 5))\n",
    "imps = rf_grid_cv.best_estimator_.named_steps.randomforestregressor.feature_importances_\n",
    "rf_feat_imps = pd.Series(imps, index=x_train.columns).sort_values(ascending=False)\n",
    "rf_feat_imps.plot(kind='bar')\n",
    "plt.xlabel('features')\n",
    "plt.ylabel('importance')\n",
    "plt.title('Best random forest regressor feature importances');"
   ]
  },
  {
   "cell_type": "markdown",
   "id": "8ac61470",
   "metadata": {},
   "source": [
    "# Model Comparison"
   ]
  },
  {
   "cell_type": "code",
   "execution_count": 27,
   "id": "21fe0b95",
   "metadata": {},
   "outputs": [
    {
     "data": {
      "text/plain": [
       "(0.7939897235677071, 0.39289840624031586)"
      ]
     },
     "execution_count": 27,
     "metadata": {},
     "output_type": "execute_result"
    }
   ],
   "source": [
    "lr_neg_mae = cross_validate(lr_grid_cv.best_estimator_, x_train, y_train, \n",
    "                            scoring='neg_mean_absolute_error', cv=5, n_jobs=-1)\n",
    "lr_mae_mean = np.mean(-1 * lr_neg_mae['test_score'])\n",
    "lr_mae_std = np.std(-1 * lr_neg_mae['test_score'])\n",
    "lr_mae_mean, lr_mae_std"
   ]
  },
  {
   "cell_type": "code",
   "execution_count": 28,
   "id": "1f210d34",
   "metadata": {},
   "outputs": [
    {
     "data": {
      "text/plain": [
       "5.000485644366677"
      ]
     },
     "execution_count": 28,
     "metadata": {},
     "output_type": "execute_result"
    }
   ],
   "source": [
    "mean_absolute_error(y_test, lr_grid_cv.best_estimator_.predict(x_test))"
   ]
  },
  {
   "cell_type": "code",
   "execution_count": 29,
   "id": "652d14df",
   "metadata": {},
   "outputs": [
    {
     "data": {
      "text/plain": [
       "(1.2474323062558426, 1.0937491075290098)"
      ]
     },
     "execution_count": 29,
     "metadata": {},
     "output_type": "execute_result"
    }
   ],
   "source": [
    "rf_neg_mae = cross_validate(rf_grid_cv.best_estimator_, x_train, y_train, \n",
    "                            scoring='neg_mean_absolute_error', cv=5, n_jobs=-1)\n",
    "\n",
    "rf_mae_mean = np.mean(-1 * rf_neg_mae['test_score'])\n",
    "rf_mae_std = np.std(-1 * rf_neg_mae['test_score'])\n",
    "rf_mae_mean, rf_mae_std"
   ]
  },
  {
   "cell_type": "code",
   "execution_count": 30,
   "id": "7feb53a2",
   "metadata": {},
   "outputs": [
    {
     "data": {
      "text/plain": [
       "1.2491246498598514"
      ]
     },
     "execution_count": 30,
     "metadata": {},
     "output_type": "execute_result"
    }
   ],
   "source": [
    "mean_absolute_error(y_test, rf_grid_cv.best_estimator_.predict(x_test))"
   ]
  },
  {
   "cell_type": "markdown",
   "id": "569812a0",
   "metadata": {},
   "source": [
    "We have a significantly lower error on the Random Forest model, making it the better of the two models"
   ]
  },
  {
   "cell_type": "markdown",
   "id": "d3ebb13e",
   "metadata": {},
   "source": [
    "# Analysis\n",
    "\n",
    "For the sake of this project, we are going to use Florida as our state of interest. The question we will now ask is:\n",
    "\n",
    "## In order to increase the test scores of 8th grade students, should Florida increase their expenditure?\n",
    "\n",
    "First lets refit our model to all the data except Florida."
   ]
  },
  {
   "cell_type": "code",
   "execution_count": 31,
   "id": "da054d46",
   "metadata": {},
   "outputs": [
    {
     "data": {
      "text/html": [
       "<div>\n",
       "<style scoped>\n",
       "    .dataframe tbody tr th:only-of-type {\n",
       "        vertical-align: middle;\n",
       "    }\n",
       "\n",
       "    .dataframe tbody tr th {\n",
       "        vertical-align: top;\n",
       "    }\n",
       "\n",
       "    .dataframe thead th {\n",
       "        text-align: right;\n",
       "    }\n",
       "</style>\n",
       "<table border=\"1\" class=\"dataframe\">\n",
       "  <thead>\n",
       "    <tr style=\"text-align: right;\">\n",
       "      <th></th>\n",
       "      <th>STATE</th>\n",
       "      <th>YEAR</th>\n",
       "      <th>STATE_ABBREVIATION</th>\n",
       "      <th>ENROLL</th>\n",
       "      <th>TOTAL_REVENUE</th>\n",
       "      <th>FEDERAL_REVENUE</th>\n",
       "      <th>STATE_REVENUE</th>\n",
       "      <th>LOCAL_REVENUE</th>\n",
       "      <th>TOTAL_EXPENDITURE</th>\n",
       "      <th>INSTRUCTION_EXPENDITURE</th>\n",
       "      <th>...</th>\n",
       "      <th>G08_HI_A_READING</th>\n",
       "      <th>G08_HI_A_MATHEMATICS</th>\n",
       "      <th>G08_AS_A_READING</th>\n",
       "      <th>G08_AS_A_MATHEMATICS</th>\n",
       "      <th>G08_AM_A_READING</th>\n",
       "      <th>G08_AM_A_MATHEMATICS</th>\n",
       "      <th>G08_HP_A_READING</th>\n",
       "      <th>G08_HP_A_MATHEMATICS</th>\n",
       "      <th>G08_TR_A_READING</th>\n",
       "      <th>G08_TR_A_MATHEMATICS</th>\n",
       "    </tr>\n",
       "  </thead>\n",
       "  <tbody>\n",
       "    <tr>\n",
       "      <th>0</th>\n",
       "      <td>ALABAMA</td>\n",
       "      <td>2003</td>\n",
       "      <td>AL</td>\n",
       "      <td>727900.0</td>\n",
       "      <td>5196054.0</td>\n",
       "      <td>567704.0</td>\n",
       "      <td>2966981.0</td>\n",
       "      <td>1661369.0</td>\n",
       "      <td>5298932.0</td>\n",
       "      <td>2817111.0</td>\n",
       "      <td>...</td>\n",
       "      <td>NaN</td>\n",
       "      <td>NaN</td>\n",
       "      <td>NaN</td>\n",
       "      <td>NaN</td>\n",
       "      <td>NaN</td>\n",
       "      <td>NaN</td>\n",
       "      <td>NaN</td>\n",
       "      <td>NaN</td>\n",
       "      <td>NaN</td>\n",
       "      <td>NaN</td>\n",
       "    </tr>\n",
       "    <tr>\n",
       "      <th>1</th>\n",
       "      <td>ALABAMA</td>\n",
       "      <td>2004</td>\n",
       "      <td>AL</td>\n",
       "      <td>730418.0</td>\n",
       "      <td>5356113.0</td>\n",
       "      <td>625666.0</td>\n",
       "      <td>2971520.0</td>\n",
       "      <td>1758927.0</td>\n",
       "      <td>5450269.0</td>\n",
       "      <td>2875595.0</td>\n",
       "      <td>...</td>\n",
       "      <td>NaN</td>\n",
       "      <td>NaN</td>\n",
       "      <td>NaN</td>\n",
       "      <td>NaN</td>\n",
       "      <td>NaN</td>\n",
       "      <td>NaN</td>\n",
       "      <td>NaN</td>\n",
       "      <td>NaN</td>\n",
       "      <td>NaN</td>\n",
       "      <td>NaN</td>\n",
       "    </tr>\n",
       "    <tr>\n",
       "      <th>2</th>\n",
       "      <td>ALABAMA</td>\n",
       "      <td>2005</td>\n",
       "      <td>AL</td>\n",
       "      <td>729342.0</td>\n",
       "      <td>5889966.0</td>\n",
       "      <td>665924.0</td>\n",
       "      <td>3247562.0</td>\n",
       "      <td>1976480.0</td>\n",
       "      <td>5904664.0</td>\n",
       "      <td>3053380.0</td>\n",
       "      <td>...</td>\n",
       "      <td>NaN</td>\n",
       "      <td>NaN</td>\n",
       "      <td>NaN</td>\n",
       "      <td>NaN</td>\n",
       "      <td>NaN</td>\n",
       "      <td>NaN</td>\n",
       "      <td>NaN</td>\n",
       "      <td>NaN</td>\n",
       "      <td>NaN</td>\n",
       "      <td>NaN</td>\n",
       "    </tr>\n",
       "    <tr>\n",
       "      <th>3</th>\n",
       "      <td>ALABAMA</td>\n",
       "      <td>2006</td>\n",
       "      <td>AL</td>\n",
       "      <td>743265.0</td>\n",
       "      <td>6364028.0</td>\n",
       "      <td>730112.0</td>\n",
       "      <td>3540436.0</td>\n",
       "      <td>2093480.0</td>\n",
       "      <td>6591429.0</td>\n",
       "      <td>3326656.0</td>\n",
       "      <td>...</td>\n",
       "      <td>NaN</td>\n",
       "      <td>NaN</td>\n",
       "      <td>NaN</td>\n",
       "      <td>NaN</td>\n",
       "      <td>NaN</td>\n",
       "      <td>NaN</td>\n",
       "      <td>NaN</td>\n",
       "      <td>NaN</td>\n",
       "      <td>NaN</td>\n",
       "      <td>NaN</td>\n",
       "    </tr>\n",
       "    <tr>\n",
       "      <th>4</th>\n",
       "      <td>ALABAMA</td>\n",
       "      <td>2007</td>\n",
       "      <td>AL</td>\n",
       "      <td>743273.0</td>\n",
       "      <td>7069040.0</td>\n",
       "      <td>689072.0</td>\n",
       "      <td>4070949.0</td>\n",
       "      <td>2309019.0</td>\n",
       "      <td>7196459.0</td>\n",
       "      <td>3653466.0</td>\n",
       "      <td>...</td>\n",
       "      <td>NaN</td>\n",
       "      <td>NaN</td>\n",
       "      <td>NaN</td>\n",
       "      <td>NaN</td>\n",
       "      <td>NaN</td>\n",
       "      <td>NaN</td>\n",
       "      <td>NaN</td>\n",
       "      <td>NaN</td>\n",
       "      <td>NaN</td>\n",
       "      <td>NaN</td>\n",
       "    </tr>\n",
       "    <tr>\n",
       "      <th>...</th>\n",
       "      <td>...</td>\n",
       "      <td>...</td>\n",
       "      <td>...</td>\n",
       "      <td>...</td>\n",
       "      <td>...</td>\n",
       "      <td>...</td>\n",
       "      <td>...</td>\n",
       "      <td>...</td>\n",
       "      <td>...</td>\n",
       "      <td>...</td>\n",
       "      <td>...</td>\n",
       "      <td>...</td>\n",
       "      <td>...</td>\n",
       "      <td>...</td>\n",
       "      <td>...</td>\n",
       "      <td>...</td>\n",
       "      <td>...</td>\n",
       "      <td>...</td>\n",
       "      <td>...</td>\n",
       "      <td>...</td>\n",
       "      <td>...</td>\n",
       "    </tr>\n",
       "    <tr>\n",
       "      <th>811</th>\n",
       "      <td>WYOMING</td>\n",
       "      <td>2014</td>\n",
       "      <td>WY</td>\n",
       "      <td>92732.0</td>\n",
       "      <td>1772633.0</td>\n",
       "      <td>112709.0</td>\n",
       "      <td>965213.0</td>\n",
       "      <td>694711.0</td>\n",
       "      <td>1775999.0</td>\n",
       "      <td>865932.0</td>\n",
       "      <td>...</td>\n",
       "      <td>259.5</td>\n",
       "      <td>275.5</td>\n",
       "      <td>NaN</td>\n",
       "      <td>NaN</td>\n",
       "      <td>248.75</td>\n",
       "      <td>260.0</td>\n",
       "      <td>NaN</td>\n",
       "      <td>NaN</td>\n",
       "      <td>NaN</td>\n",
       "      <td>NaN</td>\n",
       "    </tr>\n",
       "    <tr>\n",
       "      <th>812</th>\n",
       "      <td>WYOMING</td>\n",
       "      <td>2015</td>\n",
       "      <td>WY</td>\n",
       "      <td>93867.0</td>\n",
       "      <td>1962874.0</td>\n",
       "      <td>120290.0</td>\n",
       "      <td>1116917.0</td>\n",
       "      <td>725667.0</td>\n",
       "      <td>1942406.0</td>\n",
       "      <td>895910.0</td>\n",
       "      <td>...</td>\n",
       "      <td>258.0</td>\n",
       "      <td>273.0</td>\n",
       "      <td>NaN</td>\n",
       "      <td>NaN</td>\n",
       "      <td>249.50</td>\n",
       "      <td>251.0</td>\n",
       "      <td>NaN</td>\n",
       "      <td>NaN</td>\n",
       "      <td>NaN</td>\n",
       "      <td>NaN</td>\n",
       "    </tr>\n",
       "    <tr>\n",
       "      <th>813</th>\n",
       "      <td>WYOMING</td>\n",
       "      <td>2016</td>\n",
       "      <td>WY</td>\n",
       "      <td>94511.0</td>\n",
       "      <td>2044669.0</td>\n",
       "      <td>123012.0</td>\n",
       "      <td>1175899.0</td>\n",
       "      <td>745758.0</td>\n",
       "      <td>2034229.0</td>\n",
       "      <td>921494.0</td>\n",
       "      <td>...</td>\n",
       "      <td>259.5</td>\n",
       "      <td>274.0</td>\n",
       "      <td>NaN</td>\n",
       "      <td>NaN</td>\n",
       "      <td>250.25</td>\n",
       "      <td>259.5</td>\n",
       "      <td>NaN</td>\n",
       "      <td>NaN</td>\n",
       "      <td>NaN</td>\n",
       "      <td>NaN</td>\n",
       "    </tr>\n",
       "    <tr>\n",
       "      <th>814</th>\n",
       "      <td>WYOMING</td>\n",
       "      <td>2017</td>\n",
       "      <td>WY</td>\n",
       "      <td>94511.0</td>\n",
       "      <td>2044669.0</td>\n",
       "      <td>123012.0</td>\n",
       "      <td>1175899.0</td>\n",
       "      <td>745758.0</td>\n",
       "      <td>2034229.0</td>\n",
       "      <td>921494.0</td>\n",
       "      <td>...</td>\n",
       "      <td>261.0</td>\n",
       "      <td>275.0</td>\n",
       "      <td>NaN</td>\n",
       "      <td>NaN</td>\n",
       "      <td>251.00</td>\n",
       "      <td>268.0</td>\n",
       "      <td>NaN</td>\n",
       "      <td>NaN</td>\n",
       "      <td>NaN</td>\n",
       "      <td>NaN</td>\n",
       "    </tr>\n",
       "    <tr>\n",
       "      <th>815</th>\n",
       "      <td>WYOMING</td>\n",
       "      <td>2019</td>\n",
       "      <td>WY</td>\n",
       "      <td>94511.0</td>\n",
       "      <td>2044669.0</td>\n",
       "      <td>123012.0</td>\n",
       "      <td>1175899.0</td>\n",
       "      <td>745758.0</td>\n",
       "      <td>2034229.0</td>\n",
       "      <td>921494.0</td>\n",
       "      <td>...</td>\n",
       "      <td>254.0</td>\n",
       "      <td>274.0</td>\n",
       "      <td>NaN</td>\n",
       "      <td>NaN</td>\n",
       "      <td>243.00</td>\n",
       "      <td>258.0</td>\n",
       "      <td>NaN</td>\n",
       "      <td>NaN</td>\n",
       "      <td>NaN</td>\n",
       "      <td>274.0</td>\n",
       "    </tr>\n",
       "  </tbody>\n",
       "</table>\n",
       "<p>816 rows × 49 columns</p>\n",
       "</div>"
      ],
      "text/plain": [
       "       STATE  YEAR STATE_ABBREVIATION    ENROLL  TOTAL_REVENUE  \\\n",
       "0    ALABAMA  2003                 AL  727900.0      5196054.0   \n",
       "1    ALABAMA  2004                 AL  730418.0      5356113.0   \n",
       "2    ALABAMA  2005                 AL  729342.0      5889966.0   \n",
       "3    ALABAMA  2006                 AL  743265.0      6364028.0   \n",
       "4    ALABAMA  2007                 AL  743273.0      7069040.0   \n",
       "..       ...   ...                ...       ...            ...   \n",
       "811  WYOMING  2014                 WY   92732.0      1772633.0   \n",
       "812  WYOMING  2015                 WY   93867.0      1962874.0   \n",
       "813  WYOMING  2016                 WY   94511.0      2044669.0   \n",
       "814  WYOMING  2017                 WY   94511.0      2044669.0   \n",
       "815  WYOMING  2019                 WY   94511.0      2044669.0   \n",
       "\n",
       "     FEDERAL_REVENUE  STATE_REVENUE  LOCAL_REVENUE  TOTAL_EXPENDITURE  \\\n",
       "0           567704.0      2966981.0      1661369.0          5298932.0   \n",
       "1           625666.0      2971520.0      1758927.0          5450269.0   \n",
       "2           665924.0      3247562.0      1976480.0          5904664.0   \n",
       "3           730112.0      3540436.0      2093480.0          6591429.0   \n",
       "4           689072.0      4070949.0      2309019.0          7196459.0   \n",
       "..               ...            ...            ...                ...   \n",
       "811         112709.0       965213.0       694711.0          1775999.0   \n",
       "812         120290.0      1116917.0       725667.0          1942406.0   \n",
       "813         123012.0      1175899.0       745758.0          2034229.0   \n",
       "814         123012.0      1175899.0       745758.0          2034229.0   \n",
       "815         123012.0      1175899.0       745758.0          2034229.0   \n",
       "\n",
       "     INSTRUCTION_EXPENDITURE  ...  G08_HI_A_READING  G08_HI_A_MATHEMATICS  \\\n",
       "0                  2817111.0  ...               NaN                   NaN   \n",
       "1                  2875595.0  ...               NaN                   NaN   \n",
       "2                  3053380.0  ...               NaN                   NaN   \n",
       "3                  3326656.0  ...               NaN                   NaN   \n",
       "4                  3653466.0  ...               NaN                   NaN   \n",
       "..                       ...  ...               ...                   ...   \n",
       "811                 865932.0  ...             259.5                 275.5   \n",
       "812                 895910.0  ...             258.0                 273.0   \n",
       "813                 921494.0  ...             259.5                 274.0   \n",
       "814                 921494.0  ...             261.0                 275.0   \n",
       "815                 921494.0  ...             254.0                 274.0   \n",
       "\n",
       "     G08_AS_A_READING  G08_AS_A_MATHEMATICS  G08_AM_A_READING  \\\n",
       "0                 NaN                   NaN               NaN   \n",
       "1                 NaN                   NaN               NaN   \n",
       "2                 NaN                   NaN               NaN   \n",
       "3                 NaN                   NaN               NaN   \n",
       "4                 NaN                   NaN               NaN   \n",
       "..                ...                   ...               ...   \n",
       "811               NaN                   NaN            248.75   \n",
       "812               NaN                   NaN            249.50   \n",
       "813               NaN                   NaN            250.25   \n",
       "814               NaN                   NaN            251.00   \n",
       "815               NaN                   NaN            243.00   \n",
       "\n",
       "     G08_AM_A_MATHEMATICS  G08_HP_A_READING  G08_HP_A_MATHEMATICS  \\\n",
       "0                     NaN               NaN                   NaN   \n",
       "1                     NaN               NaN                   NaN   \n",
       "2                     NaN               NaN                   NaN   \n",
       "3                     NaN               NaN                   NaN   \n",
       "4                     NaN               NaN                   NaN   \n",
       "..                    ...               ...                   ...   \n",
       "811                 260.0               NaN                   NaN   \n",
       "812                 251.0               NaN                   NaN   \n",
       "813                 259.5               NaN                   NaN   \n",
       "814                 268.0               NaN                   NaN   \n",
       "815                 258.0               NaN                   NaN   \n",
       "\n",
       "     G08_TR_A_READING  G08_TR_A_MATHEMATICS  \n",
       "0                 NaN                   NaN  \n",
       "1                 NaN                   NaN  \n",
       "2                 NaN                   NaN  \n",
       "3                 NaN                   NaN  \n",
       "4                 NaN                   NaN  \n",
       "..                ...                   ...  \n",
       "811               NaN                   NaN  \n",
       "812               NaN                   NaN  \n",
       "813               NaN                   NaN  \n",
       "814               NaN                   NaN  \n",
       "815               NaN                 274.0  \n",
       "\n",
       "[816 rows x 49 columns]"
      ]
     },
     "execution_count": 31,
     "metadata": {},
     "output_type": "execute_result"
    }
   ],
   "source": [
    "us_ed = pd.read_csv(r\"C:\\Users\\book_\\OneDrive\\Desktop\\Data_Storage\\US_Education\\clean_data\\state_ed_03_19_reduced.csv\", index_col=0)\n",
    "us_ed\n"
   ]
  },
  {
   "cell_type": "code",
   "execution_count": 32,
   "id": "be82efd3",
   "metadata": {},
   "outputs": [
    {
     "data": {
      "text/plain": [
       "GridSearchCV(cv=5,\n",
       "             estimator=Pipeline(steps=[('standardscaler', StandardScaler()),\n",
       "                                       ('randomforestregressor',\n",
       "                                        RandomForestRegressor())]),\n",
       "             n_jobs=-1,\n",
       "             param_grid={'randomforestregressor__n_estimators': [10, 12, 16, 20,\n",
       "                                                                 26, 33, 42, 54,\n",
       "                                                                 69, 88, 112,\n",
       "                                                                 143, 183, 233,\n",
       "                                                                 297, 379, 483,\n",
       "                                                                 615, 784,\n",
       "                                                                 1000],\n",
       "                         'standardscaler': [StandardScaler(), None]})"
      ]
     },
     "execution_count": 32,
     "metadata": {},
     "output_type": "execute_result"
    }
   ],
   "source": [
    "x = us_ed.loc[us_ed.STATE != 'FLORIDA', x_train.columns]\n",
    "y = us_ed.loc[us_ed.STATE != 'FLORIDA', 'G08_A_A_MATHEMATICS']\n",
    "rf_grid_cv.fit(x, y)"
   ]
  },
  {
   "cell_type": "code",
   "execution_count": 33,
   "id": "8ba3f960",
   "metadata": {},
   "outputs": [
    {
     "data": {
      "text/plain": [
       "array([-9.8747128 , -5.30964439, -7.45611182, -6.10296875, -5.24334226])"
      ]
     },
     "execution_count": 33,
     "metadata": {},
     "output_type": "execute_result"
    }
   ],
   "source": [
    "cv_results = cross_validate(rf_grid_cv, x, y, scoring='neg_mean_absolute_error', cv=5, n_jobs=-1)\n",
    "cv_results['test_score']"
   ]
  },
  {
   "cell_type": "code",
   "execution_count": 34,
   "id": "e5516cc9",
   "metadata": {},
   "outputs": [
    {
     "data": {
      "text/plain": [
       "(6.797356004263595, 1.732887894204907)"
      ]
     },
     "execution_count": 34,
     "metadata": {},
     "output_type": "execute_result"
    }
   ],
   "source": [
    "mae_mean, mae_std = np.mean(-1 * cv_results['test_score']), np.std(-1 * cv_results['test_score'])\n",
    "mae_mean, mae_std"
   ]
  },
  {
   "cell_type": "markdown",
   "id": "66a1ea2e",
   "metadata": {},
   "source": [
    "Calculating the expected 8th grade scores for Florida in 2018"
   ]
  },
  {
   "cell_type": "code",
   "execution_count": 35,
   "id": "0f20e3d8",
   "metadata": {},
   "outputs": [
    {
     "name": "stdout",
     "output_type": "stream",
     "text": [
      "Florida modelled score is:\n",
      "279.92628205128204\n",
      "the actual score is:\n",
      "159    279.0\n",
      "Name: G08_A_A_MATHEMATICS, dtype: float64\n"
     ]
    }
   ],
   "source": [
    "x_FL = us_ed.loc[us_ed.STATE == 'FLORIDA', x_train.columns]\n",
    "y_FL = us_ed.loc[us_ed.STATE == 'FLORIDA', 'G08_A_A_MATHEMATICS']\n",
    "FL_pred = rf_grid_cv.predict(x_FL)\n",
    "#y_FL = y_FL.values.item()\n",
    "print(f'Florida modelled score is:')\n",
    "print(FL_pred[-1])\n",
    "print('the actual score is:')\n",
    "print(y_FL.tail(1))"
   ]
  },
  {
   "cell_type": "markdown",
   "id": "e0dafa93",
   "metadata": {},
   "source": [
    "This is good that our model is performing well at predicting the performance in Florida.\n",
    "\n",
    "Now our random forest model identified the most important features to be:\n",
    "\n",
    "- Instruction Expenditure\n",
    "- Support Service Expenditure\n",
    "- Local Revenue\n",
    "- Total Expenditure\n",
    "- Enroll\n",
    "- Total Revenue\n",
    "- State Revenue\n",
    "- Federal Revenue\n",
    "- Capital Outlay Expenditure\n",
    "- Other Expenditure\n",
    "\n",
    "Let's focus on the top 5."
   ]
  },
  {
   "cell_type": "code",
   "execution_count": 36,
   "id": "e21793a0",
   "metadata": {},
   "outputs": [],
   "source": [
    "def predict_increase(features, deltas):\n",
    "    \"\"\"Increase in modelled score by applying delta to feature.\n",
    "    \n",
    "    Arguments:\n",
    "    features - list, names of the features in the us_education dataframe to change\n",
    "    deltas - list, the amounts by which to increase the values of the features\n",
    "    \n",
    "    Outputs:\n",
    "    Amount of increase in the predicted score\n",
    "    \"\"\"\n",
    "    \n",
    "    fl2 = x_FL.copy()\n",
    "    for f, d in zip(features, deltas):\n",
    "        fl2[features] += deltas\n",
    "    new = rf_grid_cv.predict(fl2)\n",
    "    return new[-1] - FL_pred[-1]"
   ]
  },
  {
   "cell_type": "markdown",
   "id": "0c57b825",
   "metadata": {},
   "source": [
    "# 1. Increasing Instructional Expenditure"
   ]
  },
  {
   "cell_type": "code",
   "execution_count": 37,
   "id": "dc2a76da",
   "metadata": {},
   "outputs": [],
   "source": [
    "instruction_delta = [-5000000, 0, 5000000, 10000000, 15000000, 20000000, 25000000, 30000000]\n",
    "score_deltas = [predict_increase(['INSTRUCTION_EXPENDITURE'], [delta]) for delta in instruction_delta]"
   ]
  },
  {
   "cell_type": "code",
   "execution_count": 38,
   "id": "3452a05a",
   "metadata": {},
   "outputs": [
    {
     "data": {
      "text/plain": [
       "[0.0,\n",
       " 0.0,\n",
       " 0.4326923076923208,\n",
       " 0.4326923076923208,\n",
       " -0.04807692307690559,\n",
       " -0.04807692307690559,\n",
       " -0.04807692307690559,\n",
       " -0.04807692307690559]"
      ]
     },
     "execution_count": 38,
     "metadata": {},
     "output_type": "execute_result"
    }
   ],
   "source": [
    "score_deltas"
   ]
  },
  {
   "cell_type": "code",
   "execution_count": 39,
   "id": "83331750",
   "metadata": {},
   "outputs": [
    {
     "data": {
      "text/plain": [
       "[Text(0.5, 0, 'Change in Instructional Expenditure'),\n",
       " Text(0, 0.5, 'Change in Score'),\n",
       " Text(0.5, 1.0, 'Instrucitonal Expenditure')]"
      ]
     },
     "execution_count": 39,
     "metadata": {},
     "output_type": "execute_result"
    },
    {
     "data": {
      "image/png": "[encoded data removed]",
      "text/plain": [
       "<Figure size 720x360 with 2 Axes>"
      ]
     },
     "metadata": {
      "needs_background": "light"
     },
     "output_type": "display_data"
    }
   ],
   "source": [
    "fig, ax = plt.subplots(1,2, figsize=(10, 5))\n",
    "fig.subplots_adjust(wspace=0.5)\n",
    "ax[0].plot(instruction_delta, score_deltas, 'o-')\n",
    "ax[0].set(xlabel='Change in Instructional Expenditure', ylabel='Change in Score', title='Instrucitonal Expenditure')"
   ]
  },
  {
   "cell_type": "markdown",
   "id": "4b9857cc",
   "metadata": {},
   "source": [
    "The model says increasing the Instructional Expenditure will benefit our scores"
   ]
  },
  {
   "cell_type": "code",
   "execution_count": 40,
   "id": "a0454acf",
   "metadata": {},
   "outputs": [
    {
     "data": {
      "text/plain": [
       "[2000000,\n",
       " 4000000,\n",
       " 6000000,\n",
       " 8000000,\n",
       " 10000000,\n",
       " 12000000,\n",
       " 14000000,\n",
       " 16000000,\n",
       " 18000000,\n",
       " 20000000,\n",
       " 22000000,\n",
       " 24000000,\n",
       " 26000000,\n",
       " 28000000,\n",
       " 30000000]"
      ]
     },
     "execution_count": 40,
     "metadata": {},
     "output_type": "execute_result"
    }
   ],
   "source": [
    "instruction_delta_2 = [(i+1)*2000000 for i in range(15)]\n",
    "instruction_delta_2"
   ]
  },
  {
   "cell_type": "code",
   "execution_count": 41,
   "id": "9c43f4f2",
   "metadata": {},
   "outputs": [],
   "source": [
    "score_deltas_2 = [predict_increase(['INSTRUCTION_EXPENDITURE'], [delta]) for delta in instruction_delta_2]"
   ]
  },
  {
   "cell_type": "code",
   "execution_count": 42,
   "id": "34dfa8ad",
   "metadata": {},
   "outputs": [
    {
     "data": {
      "text/plain": [
       "[-0.06730769230767919,\n",
       " 0.4326923076923208,\n",
       " 0.4326923076923208,\n",
       " 0.4326923076923208,\n",
       " 0.4326923076923208,\n",
       " 0.06730769230767919,\n",
       " -0.04807692307690559,\n",
       " -0.04807692307690559,\n",
       " -0.04807692307690559,\n",
       " -0.04807692307690559,\n",
       " -0.04807692307690559,\n",
       " -0.04807692307690559,\n",
       " -0.04807692307690559,\n",
       " -0.04807692307690559,\n",
       " -0.04807692307690559]"
      ]
     },
     "execution_count": 42,
     "metadata": {},
     "output_type": "execute_result"
    }
   ],
   "source": [
    "score_deltas_2"
   ]
  },
  {
   "cell_type": "code",
   "execution_count": 43,
   "id": "dbd519b4",
   "metadata": {},
   "outputs": [
    {
     "data": {
      "text/plain": [
       "[Text(0.5, 0, 'Change in millions'),\n",
       " Text(0, 0.5, 'Change in Score'),\n",
       " Text(0.5, 1.0, 'Instrucitonal Expenditure')]"
      ]
     },
     "execution_count": 43,
     "metadata": {},
     "output_type": "execute_result"
    },
    {
     "data": {
      "image/png": "[encoded data removed]",
      "text/plain": [
       "<Figure size 720x360 with 1 Axes>"
      ]
     },
     "metadata": {
      "needs_background": "light"
     },
     "output_type": "display_data"
    }
   ],
   "source": [
    "fig, ax = plt.subplots( figsize=(10, 5))\n",
    "fig.subplots_adjust(wspace=0.5)\n",
    "ax.plot(instruction_delta_2, score_deltas_2, 'o-')\n",
    "ax.set_xticks(instruction_delta_2)\n",
    "ax.set_xticklabels([i for i in range(len(instruction_delta_2))])\n",
    "ax.set(xlabel='Change in millions', ylabel='Change in Score', title='Instrucitonal Expenditure')"
   ]
  },
  {
   "cell_type": "markdown",
   "id": "df4b70aa",
   "metadata": {},
   "source": [
    "It looks like here that we can a either increase by 1 million and get a .17 point increase or increase by 5 million and get a .33 point increase.\n",
    "\n",
    "# 2. Support Service Expenditure"
   ]
  },
  {
   "cell_type": "code",
   "execution_count": 44,
   "id": "d56f2128",
   "metadata": {},
   "outputs": [
    {
     "data": {
      "text/plain": [
       "[-0.8685897435897232,\n",
       " 0.0,\n",
       " 0.07692307692309441,\n",
       " -1.1570512820512704,\n",
       " -0.7916666666666856,\n",
       " -0.7916666666666856]"
      ]
     },
     "execution_count": 44,
     "metadata": {},
     "output_type": "execute_result"
    }
   ],
   "source": [
    "support_delta = [-5000000, 0, 5000000, 10000000, 15000000, 20000000]\n",
    "score_deltas = [predict_increase(['SUPPORT_SERVICES_EXPENDITURE'], [delta]) for delta in support_delta]\n",
    "score_deltas"
   ]
  },
  {
   "cell_type": "code",
   "execution_count": 45,
   "id": "642329f9",
   "metadata": {},
   "outputs": [
    {
     "data": {
      "text/plain": [
       "[Text(0.5, 0, 'Change in millions'),\n",
       " Text(0, 0.5, 'Change in Score'),\n",
       " Text(0.5, 1.0, 'Support Services Expenditure')]"
      ]
     },
     "execution_count": 45,
     "metadata": {},
     "output_type": "execute_result"
    },
    {
     "data": {
      "image/png": "[encoded data removed]",
      "text/plain": [
       "<Figure size 720x360 with 1 Axes>"
      ]
     },
     "metadata": {
      "needs_background": "light"
     },
     "output_type": "display_data"
    }
   ],
   "source": [
    "support_delta_2 = [i*1000000 for i in range(11)]\n",
    "score_deltas_2 = [predict_increase(['SUPPORT_SERVICES_EXPENDITURE'], [delta]) for delta in support_delta_2]\n",
    "\n",
    "fig, ax = plt.subplots( figsize=(10, 5))\n",
    "fig.subplots_adjust(wspace=0.5)\n",
    "ax.plot(support_delta_2, score_deltas_2, 'o-')\n",
    "ax.set_xticks([i*1000000 for i in range(11)])\n",
    "ax.set_xticklabels([i for i in range(11)])\n",
    "ax.set(xlabel='Change in millions', ylabel='Change in Score', title='Support Services Expenditure')"
   ]
  },
  {
   "cell_type": "markdown",
   "id": "9078300b",
   "metadata": {},
   "source": [
    "We can increase our scores by almost .5 points by increasing support expenditures to 3 million\n",
    "\n",
    "# 3. Local Revenue"
   ]
  },
  {
   "cell_type": "code",
   "execution_count": 46,
   "id": "a2d33855",
   "metadata": {},
   "outputs": [
    {
     "data": {
      "text/plain": [
       "[0.07692307692309441,\n",
       " 0.07692307692309441,\n",
       " 0.0,\n",
       " 0.0705128205128176,\n",
       " 0.301282051282044,\n",
       " 0.301282051282044,\n",
       " 0.301282051282044,\n",
       " 0.301282051282044,\n",
       " 0.301282051282044]"
      ]
     },
     "execution_count": 46,
     "metadata": {},
     "output_type": "execute_result"
    }
   ],
   "source": [
    "local_delta = [-10000000, -5000000, 0, 5000000, 10000000, 15000000, 20000000, 25000000, 30000000]\n",
    "score_deltas = [predict_increase(['LOCAL_REVENUE'], [delta]) for delta in local_delta]\n",
    "score_deltas"
   ]
  },
  {
   "cell_type": "code",
   "execution_count": 47,
   "id": "1e63bb36",
   "metadata": {},
   "outputs": [
    {
     "data": {
      "text/plain": [
       "[Text(0.5, 0, 'Change in millions'),\n",
       " Text(0, 0.5, 'Change in Score'),\n",
       " Text(0.5, 1.0, 'Local Revenue')]"
      ]
     },
     "execution_count": 47,
     "metadata": {},
     "output_type": "execute_result"
    },
    {
     "data": {
      "image/png": "[encoded data removed]",
      "text/plain": [
       "<Figure size 720x360 with 1 Axes>"
      ]
     },
     "metadata": {
      "needs_background": "light"
     },
     "output_type": "display_data"
    }
   ],
   "source": [
    "local_delta_2 = [(i+10)*1000000 for i in range(15)]\n",
    "score_deltas_2 = [predict_increase(['LOCAL_REVENUE'], [delta]) for delta in local_delta_2]\n",
    "\n",
    "fig, ax = plt.subplots( figsize=(10, 5))\n",
    "fig.subplots_adjust(wspace=0.5)\n",
    "ax.plot(local_delta_2, score_deltas_2, 'o-')\n",
    "ax.set_xticks(local_delta_2)\n",
    "ax.set_xticklabels([i+10 for i in range(15)])\n",
    "ax.set(xlabel='Change in millions', ylabel='Change in Score', title='Local Revenue')"
   ]
  },
  {
   "cell_type": "markdown",
   "id": "3c24764a",
   "metadata": {},
   "source": [
    "This one may be a bit more difficult to do, but if we can increase the Local revenue, it appears we can increase the scores. The current maximum we're looking at is about a .13 point increase if we can get an increase of 11 million in Local Revenue.\n",
    "\n",
    "# 4. Total Expenditure"
   ]
  },
  {
   "cell_type": "code",
   "execution_count": 48,
   "id": "75420145",
   "metadata": {},
   "outputs": [
    {
     "data": {
      "text/plain": [
       "[-0.03846153846154721,\n",
       " -0.03846153846154721,\n",
       " 0.0,\n",
       " -0.11538461538464162,\n",
       " -0.2019230769230944,\n",
       " -0.2019230769230944,\n",
       " 0.028846153846131983,\n",
       " 0.04807692307690559,\n",
       " 0.04807692307690559,\n",
       " 0.04807692307690559,\n",
       " 0.04807692307690559,\n",
       " 0.04807692307690559,\n",
       " 0.04807692307690559]"
      ]
     },
     "execution_count": 48,
     "metadata": {},
     "output_type": "execute_result"
    }
   ],
   "source": [
    "total_delta = [-10000000, -5000000, 0, 5000000, 10000000, 15000000, 20000000, 25000000, 30000000, 40000000, 50000000, 60000000, 70000000]\n",
    "score_deltas = [predict_increase(['TOTAL_EXPENDITURE'], [delta]) for delta in total_delta]\n",
    "score_deltas"
   ]
  },
  {
   "cell_type": "code",
   "execution_count": 49,
   "id": "e536ee12",
   "metadata": {},
   "outputs": [
    {
     "data": {
      "text/plain": [
       "[Text(0.5, 0, 'Change in millions'),\n",
       " Text(0, 0.5, 'Change in Score'),\n",
       " Text(0.5, 1.0, 'Total Expenditure')]"
      ]
     },
     "execution_count": 49,
     "metadata": {},
     "output_type": "execute_result"
    },
    {
     "data": {
      "image/png": "[encoded data removed]",
      "text/plain": [
       "<Figure size 720x360 with 1 Axes>"
      ]
     },
     "metadata": {
      "needs_background": "light"
     },
     "output_type": "display_data"
    }
   ],
   "source": [
    "# between 20 and 40 million\n",
    "total_delta_2 = [(i+20)*1000000 for i in range(20)]\n",
    "score_deltas_2 = [predict_increase(['TOTAL_EXPENDITURE'], [delta]) for delta in total_delta_2]\n",
    "\n",
    "fig, ax = plt.subplots( figsize=(10, 5))\n",
    "fig.subplots_adjust(wspace=0.5)\n",
    "ax.plot(total_delta_2, score_deltas_2, 'o-')\n",
    "ax.set_xticks(total_delta_2)\n",
    "ax.set_xticklabels([i+20 for i in range(20)])\n",
    "ax.set(xlabel='Change in millions', ylabel='Change in Score', title='Total Expenditure')"
   ]
  },
  {
   "cell_type": "markdown",
   "id": "12b6da92",
   "metadata": {},
   "source": [
    "In this version:\n",
    "We see a decrease in score by changing the total expenditure\n",
    "\n",
    "\n",
    "In a previous model version:\n",
    "\n",
    "We saw a small increase in score by increasing the expendutre by 10-15 million, but starting at about 20 million we see at minimum a .3 point increase in the score. If it is possible to increase the total expenditure by 32 million we could possibly get a .34 point increase.\n",
    "\n",
    "# 5. Enrollment"
   ]
  },
  {
   "cell_type": "code",
   "execution_count": 50,
   "id": "ed2d9124",
   "metadata": {},
   "outputs": [
    {
     "data": {
      "text/plain": [
       "[Text(0.5, 0, 'Change in millions'),\n",
       " Text(0, 0.5, 'Change in Score'),\n",
       " Text(0.5, 1.0, 'Enrollment')]"
      ]
     },
     "execution_count": 50,
     "metadata": {},
     "output_type": "execute_result"
    },
    {
     "data": {
      "image/png": "[encoded data removed]",
      "text/plain": [
       "<Figure size 720x360 with 1 Axes>"
      ]
     },
     "metadata": {
      "needs_background": "light"
     },
     "output_type": "display_data"
    }
   ],
   "source": [
    "enroll_delta = [i*1000000 for i in range(5)]\n",
    "score_deltas = [predict_increase(['ENROLL'], [delta]) for delta in enroll_delta]\n",
    "\n",
    "fig, ax = plt.subplots( figsize=(10, 5))\n",
    "fig.subplots_adjust(wspace=0.5)\n",
    "ax.plot(enroll_delta, score_deltas, 'o-')\n",
    "ax.set_xticks(enroll_delta)\n",
    "ax.set_xticklabels([i for i in range(5)])\n",
    "ax.set(xlabel='Change in millions', ylabel='Change in Score', title='Enrollment')"
   ]
  },
  {
   "cell_type": "markdown",
   "id": "c4d796b4",
   "metadata": {},
   "source": [
    "There doesn't appear to be much increase in score by enrollment, which is also something we don't necessarily have control over, but we can see a .005 increase in enrollment if we increase enrollment by 2 million.\n",
    "\n",
    "# Combination\n",
    "\n",
    "Let's look at the score increase with a combination of these senarios.\n",
    "\n",
    "1) Increase Instructional Expenditure by 5 million dollars\n",
    "\n",
    "2) Increase Support Services Exepnditure by 3 million dollars\n",
    "\n",
    "3) Incresae Local Revenue by 10 million\n",
    "\n",
    "4) No change Total Expenditure\n",
    "\n",
    "5) Increase Enrollment by 1 million"
   ]
  },
  {
   "cell_type": "code",
   "execution_count": 51,
   "id": "b9599150",
   "metadata": {},
   "outputs": [
    {
     "data": {
      "text/plain": [
       "-1.778846153846132"
      ]
     },
     "execution_count": 51,
     "metadata": {},
     "output_type": "execute_result"
    }
   ],
   "source": [
    "score_increase = predict_increase(['INSTRUCTION_EXPENDITURE','SUPPORT_SERVICES_EXPENDITURE', 'LOCAL_REVENUE', 'ENROLL'], [5000000, 3000000, 1000000, 1000000])\n",
    "score_increase"
   ]
  },
  {
   "cell_type": "code",
   "execution_count": 52,
   "id": "76608a76",
   "metadata": {},
   "outputs": [
    {
     "data": {
      "text/plain": [
       "0.8076923076923208"
      ]
     },
     "execution_count": 52,
     "metadata": {},
     "output_type": "execute_result"
    }
   ],
   "source": [
    "# Instructional and Support increase\n",
    "score_increase = predict_increase(['INSTRUCTION_EXPENDITURE', 'SUPPORT_SERVICES_EXPENDITURE'], [5000000, 3000000])\n",
    "score_increase"
   ]
  },
  {
   "cell_type": "code",
   "execution_count": 53,
   "id": "e6ddd62f",
   "metadata": {},
   "outputs": [
    {
     "data": {
      "text/plain": [
       "-1.5032051282051384"
      ]
     },
     "execution_count": 53,
     "metadata": {},
     "output_type": "execute_result"
    }
   ],
   "source": [
    "#instruction, Support, and Revenue\n",
    "score_increase = predict_increase(['INSTRUCTION_EXPENDITURE', 'SUPPORT_SERVICES_EXPENDITURE', 'LOCAL_REVENUE'], [5000000, 3000000, 1000000])\n",
    "score_increase"
   ]
  },
  {
   "cell_type": "code",
   "execution_count": 54,
   "id": "3088d840",
   "metadata": {},
   "outputs": [
    {
     "data": {
      "text/plain": [
       "-1.3685897435897232"
      ]
     },
     "execution_count": 54,
     "metadata": {},
     "output_type": "execute_result"
    }
   ],
   "source": [
    "# Instruction, Support, Enroll\n",
    "score_increase = predict_increase(['INSTRUCTION_EXPENDITURE', 'SUPPORT_SERVICES_EXPENDITURE', 'ENROLL'], [5000000, 3000000, 1000000])\n",
    "score_increase"
   ]
  },
  {
   "cell_type": "code",
   "execution_count": 55,
   "id": "0a2cf4b8",
   "metadata": {},
   "outputs": [
    {
     "data": {
      "text/plain": [
       "0.4326923076923208"
      ]
     },
     "execution_count": 55,
     "metadata": {},
     "output_type": "execute_result"
    }
   ],
   "source": [
    "#Instruction and Revenue\n",
    "score_increase = predict_increase(['INSTRUCTION_EXPENDITURE', 'LOCAL_REVENUE'], [5000000, 1000000])\n",
    "score_increase"
   ]
  },
  {
   "cell_type": "code",
   "execution_count": 56,
   "id": "e0e95020",
   "metadata": {},
   "outputs": [
    {
     "data": {
      "text/plain": [
       "0.4326923076923208"
      ]
     },
     "execution_count": 56,
     "metadata": {},
     "output_type": "execute_result"
    }
   ],
   "source": [
    "score_increase = predict_increase(['INSTRUCTION_EXPENDITURE', 'TOTAL_EXPENDITURE'], [5000000, 1000000])\n",
    "score_increase"
   ]
  },
  {
   "cell_type": "markdown",
   "id": "f182d100",
   "metadata": {},
   "source": [
    "We could do more of these senarios to test what could be best for Florida, it looks like doing all of the things that individually increase the score, doesn't necessiarily corrilate to an increase in score when all done together.\n",
    "\n",
    "However of the ones we performed in this notebook the combination of increasing instruction and support expenditures has provided the best score increase."
   ]
  },
  {
   "cell_type": "markdown",
   "id": "a2e1b4c0",
   "metadata": {},
   "source": [
    "# Summary\n",
    "\n",
    "We saw incrimental score increases in each of our individual important features. In future work we could look at the other top features and see how they interact with each other and test other possible senarios. Also remember that we made certain decisions for this project such as choosing Florida and to analyse 8th grade math scores. We also have reading scores and scores based on demographics that we could run a copy of this notebook with the state and demographic of interest changed. As we have chosen our interests, the most important features were:\n",
    "\n",
    "- Instruction Expenditure\n",
    "- Support Service Expenditure\n",
    "- Local Revenue\n",
    "- Total Expenditure\n",
    "- Enroll\n",
    "- Total Revenue\n",
    "- State Revenue\n",
    "- Federal Revenue\n",
    "- Capital Outlay Expenditure\n",
    "- Other Expenditure\n",
    "\n",
    "The ranking of these has changed with different models but Instruction and Support tend to be in the top most of the time.\n",
    "With this reason we will choose our proposed action to helping Florida increase their 8th grade mathematics scores by increasing their Instruction Expenditure by 5 million dollars and their Support Service Expenditure by 3 million dollars. This can acheive us a .58 score increase (according to the current model version). This may seem like a small increment, but change overtime can benefit students greatly.\n",
    "\n",
    "We hope in the future we can look further into the demographics to see how best we can help our students to grow in their learning.\n",
    "\n",
    "Note: In the future we should do a version control so that there is consistancy with each time the notebook is ran. Right now if you run the notebook you may not necissarily have the same numbers as what I have achieved in my notes. "
   ]
  },
  {
   "cell_type": "code",
   "execution_count": null,
   "id": "5d7f269c",
   "metadata": {},
   "outputs": [],
   "source": []
  }
 ],
 "metadata": {
  "kernelspec": {
   "display_name": "Python 3",
   "language": "python",
   "name": "python3"
  },
  "language_info": {
   "codemirror_mode": {
    "name": "ipython",
    "version": 3
   },
   "file_extension": ".py",
   "mimetype": "text/x-python",
   "name": "python",
   "nbconvert_exporter": "python",
   "pygments_lexer": "ipython3",
   "version": "3.8.8"
  }
 },
 "nbformat": 4,
 "nbformat_minor": 5
}
